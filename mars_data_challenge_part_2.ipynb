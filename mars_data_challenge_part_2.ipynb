{
 "cells": [
  {
   "cell_type": "code",
   "execution_count": 1,
   "id": "4c71f37e-5e12-4800-9180-d8e6c7a8a182",
   "metadata": {},
   "outputs": [],
   "source": [
    "from bs4 import BeautifulSoup as bs\n",
    "import requests\n",
    "from splinter import Browser\n",
    "import pandas as pd\n",
    "from webdriver_manager.chrome import ChromeDriverManager\n",
    "import matplotlib.pyplot as plt"
   ]
  },
  {
   "cell_type": "code",
   "execution_count": 2,
   "id": "0849fdcd-da2f-46dc-9fab-13d70a358ff5",
   "metadata": {},
   "outputs": [
    {
     "name": "stderr",
     "output_type": "stream",
     "text": [
      "[WDM] - Downloading: 100%|██████████| 6.46M/6.46M [00:00<00:00, 22.9MB/s]\n"
     ]
    }
   ],
   "source": [
    "executable_path = {'executable_path': ChromeDriverManager().install()}\n",
    "browser = Browser('chrome', **executable_path, headless=False)\n",
    "\n",
    "#Scarping URL\n",
    "url=\"https://data-class-mars-challenge.s3.amazonaws.com/Mars/index.html\"\n",
    "browser.visit(url)"
   ]
  },
  {
   "cell_type": "code",
   "execution_count": 3,
   "id": "7cdeaf93-205b-49b3-ac44-9b973902dbf5",
   "metadata": {},
   "outputs": [],
   "source": [
    "#BS4 object\n",
    "html = browser.html\n",
    "mars_soup = bs(html, 'html.parser')"
   ]
  },
  {
   "cell_type": "code",
   "execution_count": 4,
   "id": "389ba863-1330-420b-b70b-b1a16b93e311",
   "metadata": {},
   "outputs": [],
   "source": [
    "headers = mars_soup.find_all('th')\n",
    "info = mars_soup.find_all('tr', class_ = 'data-row')"
   ]
  },
  {
   "cell_type": "code",
   "execution_count": 5,
   "id": "714db642-d08e-4edc-ab75-8c7598b9f87f",
   "metadata": {},
   "outputs": [],
   "source": [
    "#Empty lists to hold necessary info\n",
    "table_headers = []\n",
    "ids = []\n",
    "terrestrial_dates = []\n",
    "sols = []\n",
    "ls = []\n",
    "months = []\n",
    "min_temps = []\n",
    "pressures = []\n",
    "\n",
    "#Table headers\n",
    "for header in headers:\n",
    "    table_headers.append(header.text)\n",
    "\n",
    "for information in info:\n",
    "   #appending id\n",
    "    mars_id = information.find('td')\n",
    "    ids.append(int(mars_id.text))\n",
    "    \n",
    "    #terrestial dates\n",
    "    terrestrial_dates.append(mars_id.find_next_sibling('td').text)\n",
    "    mars_id = mars_id.find_next_sibling('td')\n",
    "    \n",
    "    #sol\n",
    "    sols.append(int(mars_id.find_next_sibling(\"td\").text))\n",
    "    mars_id = mars_id.find_next_sibling(\"td\")\n",
    "    \n",
    "    #ls\n",
    "    ls.append(int(mars_id.find_next_sibling(\"td\").text))\n",
    "    mars_id=mars_id.find_next_sibling('td')\n",
    "    \n",
    "    # month\n",
    "    months.append(int(mars_id.find_next_sibling(\"td\").text))\n",
    "    mars_id = mars_id.find_next_sibling(\"td\")\n",
    "    \n",
    "    # min_temp\n",
    "    min_temps.append(float(mars_id.find_next_sibling(\"td\").text))\n",
    "    mars_id = mars_id.find_next_sibling(\"td\")\n",
    "    \n",
    "    # pressure\n",
    "    pressures.append(float(mars_id.find_next_sibling(\"td\").text))"
   ]
  },
  {
   "cell_type": "code",
   "execution_count": 6,
   "id": "f19138b5-9823-43e2-81f1-9c197aa0c96b",
   "metadata": {},
   "outputs": [
    {
     "data": {
      "text/html": [
       "<div>\n",
       "<style scoped>\n",
       "    .dataframe tbody tr th:only-of-type {\n",
       "        vertical-align: middle;\n",
       "    }\n",
       "\n",
       "    .dataframe tbody tr th {\n",
       "        vertical-align: top;\n",
       "    }\n",
       "\n",
       "    .dataframe thead th {\n",
       "        text-align: right;\n",
       "    }\n",
       "</style>\n",
       "<table border=\"1\" class=\"dataframe\">\n",
       "  <thead>\n",
       "    <tr style=\"text-align: right;\">\n",
       "      <th></th>\n",
       "      <th>id</th>\n",
       "      <th>terrestrial_date</th>\n",
       "      <th>sol</th>\n",
       "      <th>ls</th>\n",
       "      <th>month</th>\n",
       "      <th>min_temp</th>\n",
       "      <th>pressure</th>\n",
       "    </tr>\n",
       "  </thead>\n",
       "  <tbody>\n",
       "    <tr>\n",
       "      <th>0</th>\n",
       "      <td>2</td>\n",
       "      <td>2012-08-16</td>\n",
       "      <td>10</td>\n",
       "      <td>155</td>\n",
       "      <td>6</td>\n",
       "      <td>-75.0</td>\n",
       "      <td>739.0</td>\n",
       "    </tr>\n",
       "    <tr>\n",
       "      <th>1</th>\n",
       "      <td>13</td>\n",
       "      <td>2012-08-17</td>\n",
       "      <td>11</td>\n",
       "      <td>156</td>\n",
       "      <td>6</td>\n",
       "      <td>-76.0</td>\n",
       "      <td>740.0</td>\n",
       "    </tr>\n",
       "    <tr>\n",
       "      <th>2</th>\n",
       "      <td>24</td>\n",
       "      <td>2012-08-18</td>\n",
       "      <td>12</td>\n",
       "      <td>156</td>\n",
       "      <td>6</td>\n",
       "      <td>-76.0</td>\n",
       "      <td>741.0</td>\n",
       "    </tr>\n",
       "    <tr>\n",
       "      <th>3</th>\n",
       "      <td>35</td>\n",
       "      <td>2012-08-19</td>\n",
       "      <td>13</td>\n",
       "      <td>157</td>\n",
       "      <td>6</td>\n",
       "      <td>-74.0</td>\n",
       "      <td>732.0</td>\n",
       "    </tr>\n",
       "    <tr>\n",
       "      <th>4</th>\n",
       "      <td>46</td>\n",
       "      <td>2012-08-20</td>\n",
       "      <td>14</td>\n",
       "      <td>157</td>\n",
       "      <td>6</td>\n",
       "      <td>-74.0</td>\n",
       "      <td>740.0</td>\n",
       "    </tr>\n",
       "    <tr>\n",
       "      <th>...</th>\n",
       "      <td>...</td>\n",
       "      <td>...</td>\n",
       "      <td>...</td>\n",
       "      <td>...</td>\n",
       "      <td>...</td>\n",
       "      <td>...</td>\n",
       "      <td>...</td>\n",
       "    </tr>\n",
       "    <tr>\n",
       "      <th>1862</th>\n",
       "      <td>1889</td>\n",
       "      <td>2018-02-23</td>\n",
       "      <td>1973</td>\n",
       "      <td>133</td>\n",
       "      <td>5</td>\n",
       "      <td>-78.0</td>\n",
       "      <td>730.0</td>\n",
       "    </tr>\n",
       "    <tr>\n",
       "      <th>1863</th>\n",
       "      <td>1892</td>\n",
       "      <td>2018-02-24</td>\n",
       "      <td>1974</td>\n",
       "      <td>134</td>\n",
       "      <td>5</td>\n",
       "      <td>-77.0</td>\n",
       "      <td>729.0</td>\n",
       "    </tr>\n",
       "    <tr>\n",
       "      <th>1864</th>\n",
       "      <td>1894</td>\n",
       "      <td>2018-02-25</td>\n",
       "      <td>1975</td>\n",
       "      <td>134</td>\n",
       "      <td>5</td>\n",
       "      <td>-76.0</td>\n",
       "      <td>729.0</td>\n",
       "    </tr>\n",
       "    <tr>\n",
       "      <th>1865</th>\n",
       "      <td>1893</td>\n",
       "      <td>2018-02-26</td>\n",
       "      <td>1976</td>\n",
       "      <td>135</td>\n",
       "      <td>5</td>\n",
       "      <td>-77.0</td>\n",
       "      <td>728.0</td>\n",
       "    </tr>\n",
       "    <tr>\n",
       "      <th>1866</th>\n",
       "      <td>1895</td>\n",
       "      <td>2018-02-27</td>\n",
       "      <td>1977</td>\n",
       "      <td>135</td>\n",
       "      <td>5</td>\n",
       "      <td>-77.0</td>\n",
       "      <td>727.0</td>\n",
       "    </tr>\n",
       "  </tbody>\n",
       "</table>\n",
       "<p>1867 rows × 7 columns</p>\n",
       "</div>"
      ],
      "text/plain": [
       "        id terrestrial_date   sol   ls  month  min_temp  pressure\n",
       "0        2       2012-08-16    10  155      6     -75.0     739.0\n",
       "1       13       2012-08-17    11  156      6     -76.0     740.0\n",
       "2       24       2012-08-18    12  156      6     -76.0     741.0\n",
       "3       35       2012-08-19    13  157      6     -74.0     732.0\n",
       "4       46       2012-08-20    14  157      6     -74.0     740.0\n",
       "...    ...              ...   ...  ...    ...       ...       ...\n",
       "1862  1889       2018-02-23  1973  133      5     -78.0     730.0\n",
       "1863  1892       2018-02-24  1974  134      5     -77.0     729.0\n",
       "1864  1894       2018-02-25  1975  134      5     -76.0     729.0\n",
       "1865  1893       2018-02-26  1976  135      5     -77.0     728.0\n",
       "1866  1895       2018-02-27  1977  135      5     -77.0     727.0\n",
       "\n",
       "[1867 rows x 7 columns]"
      ]
     },
     "execution_count": 6,
     "metadata": {},
     "output_type": "execute_result"
    }
   ],
   "source": [
    "mars_df =pd.DataFrame(columns = table_headers)\n",
    "mars_df[\"id\"] = ids \n",
    "mars_df[\"terrestrial_date\"] = terrestrial_dates\n",
    "mars_df[\"sol\"] = sols\n",
    "mars_df[\"ls\"] = ls\n",
    "mars_df[\"month\"] = months\n",
    "mars_df[\"min_temp\"] = min_temps\n",
    "mars_df[\"pressure\"] = pressures\n",
    "mars_df"
   ]
  },
  {
   "cell_type": "code",
   "execution_count": 7,
   "id": "b93daf25-f2b6-4d9c-8db0-234c8cc2a137",
   "metadata": {},
   "outputs": [
    {
     "data": {
      "text/html": [
       "<div>\n",
       "<style scoped>\n",
       "    .dataframe tbody tr th:only-of-type {\n",
       "        vertical-align: middle;\n",
       "    }\n",
       "\n",
       "    .dataframe tbody tr th {\n",
       "        vertical-align: top;\n",
       "    }\n",
       "\n",
       "    .dataframe thead th {\n",
       "        text-align: right;\n",
       "    }\n",
       "</style>\n",
       "<table border=\"1\" class=\"dataframe\">\n",
       "  <thead>\n",
       "    <tr style=\"text-align: right;\">\n",
       "      <th></th>\n",
       "      <th>id</th>\n",
       "      <th>terrestrial_date</th>\n",
       "      <th>sol</th>\n",
       "      <th>ls</th>\n",
       "      <th>month</th>\n",
       "      <th>min_temp</th>\n",
       "      <th>pressure</th>\n",
       "    </tr>\n",
       "  </thead>\n",
       "  <tbody>\n",
       "    <tr>\n",
       "      <th>0</th>\n",
       "      <td>2</td>\n",
       "      <td>2012-08-16</td>\n",
       "      <td>10</td>\n",
       "      <td>155</td>\n",
       "      <td>6</td>\n",
       "      <td>-75.0</td>\n",
       "      <td>739.0</td>\n",
       "    </tr>\n",
       "    <tr>\n",
       "      <th>1</th>\n",
       "      <td>13</td>\n",
       "      <td>2012-08-17</td>\n",
       "      <td>11</td>\n",
       "      <td>156</td>\n",
       "      <td>6</td>\n",
       "      <td>-76.0</td>\n",
       "      <td>740.0</td>\n",
       "    </tr>\n",
       "    <tr>\n",
       "      <th>2</th>\n",
       "      <td>24</td>\n",
       "      <td>2012-08-18</td>\n",
       "      <td>12</td>\n",
       "      <td>156</td>\n",
       "      <td>6</td>\n",
       "      <td>-76.0</td>\n",
       "      <td>741.0</td>\n",
       "    </tr>\n",
       "    <tr>\n",
       "      <th>3</th>\n",
       "      <td>35</td>\n",
       "      <td>2012-08-19</td>\n",
       "      <td>13</td>\n",
       "      <td>157</td>\n",
       "      <td>6</td>\n",
       "      <td>-74.0</td>\n",
       "      <td>732.0</td>\n",
       "    </tr>\n",
       "    <tr>\n",
       "      <th>4</th>\n",
       "      <td>46</td>\n",
       "      <td>2012-08-20</td>\n",
       "      <td>14</td>\n",
       "      <td>157</td>\n",
       "      <td>6</td>\n",
       "      <td>-74.0</td>\n",
       "      <td>740.0</td>\n",
       "    </tr>\n",
       "    <tr>\n",
       "      <th>...</th>\n",
       "      <td>...</td>\n",
       "      <td>...</td>\n",
       "      <td>...</td>\n",
       "      <td>...</td>\n",
       "      <td>...</td>\n",
       "      <td>...</td>\n",
       "      <td>...</td>\n",
       "    </tr>\n",
       "    <tr>\n",
       "      <th>1862</th>\n",
       "      <td>1889</td>\n",
       "      <td>2018-02-23</td>\n",
       "      <td>1973</td>\n",
       "      <td>133</td>\n",
       "      <td>5</td>\n",
       "      <td>-78.0</td>\n",
       "      <td>730.0</td>\n",
       "    </tr>\n",
       "    <tr>\n",
       "      <th>1863</th>\n",
       "      <td>1892</td>\n",
       "      <td>2018-02-24</td>\n",
       "      <td>1974</td>\n",
       "      <td>134</td>\n",
       "      <td>5</td>\n",
       "      <td>-77.0</td>\n",
       "      <td>729.0</td>\n",
       "    </tr>\n",
       "    <tr>\n",
       "      <th>1864</th>\n",
       "      <td>1894</td>\n",
       "      <td>2018-02-25</td>\n",
       "      <td>1975</td>\n",
       "      <td>134</td>\n",
       "      <td>5</td>\n",
       "      <td>-76.0</td>\n",
       "      <td>729.0</td>\n",
       "    </tr>\n",
       "    <tr>\n",
       "      <th>1865</th>\n",
       "      <td>1893</td>\n",
       "      <td>2018-02-26</td>\n",
       "      <td>1976</td>\n",
       "      <td>135</td>\n",
       "      <td>5</td>\n",
       "      <td>-77.0</td>\n",
       "      <td>728.0</td>\n",
       "    </tr>\n",
       "    <tr>\n",
       "      <th>1866</th>\n",
       "      <td>1895</td>\n",
       "      <td>2018-02-27</td>\n",
       "      <td>1977</td>\n",
       "      <td>135</td>\n",
       "      <td>5</td>\n",
       "      <td>-77.0</td>\n",
       "      <td>727.0</td>\n",
       "    </tr>\n",
       "  </tbody>\n",
       "</table>\n",
       "<p>1867 rows × 7 columns</p>\n",
       "</div>"
      ],
      "text/plain": [
       "        id terrestrial_date   sol   ls  month  min_temp  pressure\n",
       "0        2       2012-08-16    10  155      6     -75.0     739.0\n",
       "1       13       2012-08-17    11  156      6     -76.0     740.0\n",
       "2       24       2012-08-18    12  156      6     -76.0     741.0\n",
       "3       35       2012-08-19    13  157      6     -74.0     732.0\n",
       "4       46       2012-08-20    14  157      6     -74.0     740.0\n",
       "...    ...              ...   ...  ...    ...       ...       ...\n",
       "1862  1889       2018-02-23  1973  133      5     -78.0     730.0\n",
       "1863  1892       2018-02-24  1974  134      5     -77.0     729.0\n",
       "1864  1894       2018-02-25  1975  134      5     -76.0     729.0\n",
       "1865  1893       2018-02-26  1976  135      5     -77.0     728.0\n",
       "1866  1895       2018-02-27  1977  135      5     -77.0     727.0\n",
       "\n",
       "[1867 rows x 7 columns]"
      ]
     },
     "execution_count": 7,
     "metadata": {},
     "output_type": "execute_result"
    }
   ],
   "source": [
    "# Convert terrestrial_date column from string to datetime\n",
    "mars_df[\"terrestrial_date\"] = mars_df[\"terrestrial_date\"].astype(\"datetime64[ns]\")\n",
    "mars_df"
   ]
  },
  {
   "cell_type": "code",
   "execution_count": 8,
   "id": "d8250735-b7a9-484e-b2f6-a9b2e9588c8c",
   "metadata": {},
   "outputs": [
    {
     "data": {
      "text/plain": [
       "array([ 6,  7,  8,  9, 10, 11, 12,  1,  2,  3,  4,  5], dtype=int64)"
      ]
     },
     "execution_count": 8,
     "metadata": {},
     "output_type": "execute_result"
    }
   ],
   "source": [
    "#How many months exist on Mars?\n",
    "(mars_df[\"month\"].unique())"
   ]
  },
  {
   "cell_type": "code",
   "execution_count": 9,
   "id": "1113fea7-deac-4db5-983b-f5b54a24e2b8",
   "metadata": {},
   "outputs": [
    {
     "data": {
      "text/plain": [
       "1967"
      ]
     },
     "execution_count": 9,
     "metadata": {},
     "output_type": "execute_result"
    }
   ],
   "source": [
    "#How many Martian (and not Earth) days worth of data exist in the scraped dataset?\n",
    "# martian_days = mars_df[\"sol\"].unique()\n",
    "# martian_days\n",
    "martian_days = ((mars_df[\"sol\"].max())-(mars_df[\"sol\"].min()))\n",
    "martian_days"
   ]
  },
  {
   "cell_type": "markdown",
   "id": "5e291e1a-c470-4690-a0fa-8bfc1d19f378",
   "metadata": {},
   "source": [
    "### What are the coldest and the warmest months on Mars (at the location of Curiosity)? Get the answer by averaging the minimum daily temperature of all the months. Plot the results as a bar chart."
   ]
  },
  {
   "cell_type": "code",
   "execution_count": 20,
   "id": "b6d23e03-77a4-46e5-97f2-ec822fe35c60",
   "metadata": {},
   "outputs": [],
   "source": [
    "temp_months = []\n",
    "for month in mars_df[\"month\"]:\n",
    "    if month not in temp_months:\n",
    "        temp_months.append(month)\n",
    "\n",
    "temp_months.sort() #xticks\n",
    "\n",
    "# agg_mars_df = mars_df.agg([\"mean\", \"median\", \"var\", \"std\", \"sem\"])\n",
    "# min_temp_mean = agg_mars_df=mars_df.agg([\"min_temp\"])\n",
    "month_agg = mars_df.groupby(\"month\")\n",
    "mean_month = month_agg.mean()"
   ]
  },
  {
   "cell_type": "code",
   "execution_count": 12,
   "id": "6add19de-5d62-41fe-af0e-ae8259be1225",
   "metadata": {},
   "outputs": [
    {
     "data": {
      "text/html": [
       "<div>\n",
       "<style scoped>\n",
       "    .dataframe tbody tr th:only-of-type {\n",
       "        vertical-align: middle;\n",
       "    }\n",
       "\n",
       "    .dataframe tbody tr th {\n",
       "        vertical-align: top;\n",
       "    }\n",
       "\n",
       "    .dataframe thead th {\n",
       "        text-align: right;\n",
       "    }\n",
       "</style>\n",
       "<table border=\"1\" class=\"dataframe\">\n",
       "  <thead>\n",
       "    <tr style=\"text-align: right;\">\n",
       "      <th></th>\n",
       "      <th>id</th>\n",
       "      <th>sol</th>\n",
       "      <th>ls</th>\n",
       "      <th>month</th>\n",
       "      <th>min_temp</th>\n",
       "      <th>pressure</th>\n",
       "    </tr>\n",
       "  </thead>\n",
       "  <tbody>\n",
       "    <tr>\n",
       "      <th>count</th>\n",
       "      <td>1867.000000</td>\n",
       "      <td>1867.000000</td>\n",
       "      <td>1867.000000</td>\n",
       "      <td>1867.000000</td>\n",
       "      <td>1867.000000</td>\n",
       "      <td>1867.000000</td>\n",
       "    </tr>\n",
       "    <tr>\n",
       "      <th>mean</th>\n",
       "      <td>955.551152</td>\n",
       "      <td>1015.670059</td>\n",
       "      <td>168.865024</td>\n",
       "      <td>6.141939</td>\n",
       "      <td>-76.121050</td>\n",
       "      <td>841.066417</td>\n",
       "    </tr>\n",
       "    <tr>\n",
       "      <th>std</th>\n",
       "      <td>545.048507</td>\n",
       "      <td>565.342298</td>\n",
       "      <td>105.599153</td>\n",
       "      <td>3.506493</td>\n",
       "      <td>5.504098</td>\n",
       "      <td>54.253226</td>\n",
       "    </tr>\n",
       "    <tr>\n",
       "      <th>min</th>\n",
       "      <td>2.000000</td>\n",
       "      <td>10.000000</td>\n",
       "      <td>0.000000</td>\n",
       "      <td>1.000000</td>\n",
       "      <td>-90.000000</td>\n",
       "      <td>727.000000</td>\n",
       "    </tr>\n",
       "    <tr>\n",
       "      <th>25%</th>\n",
       "      <td>489.500000</td>\n",
       "      <td>546.500000</td>\n",
       "      <td>78.000000</td>\n",
       "      <td>3.000000</td>\n",
       "      <td>-80.000000</td>\n",
       "      <td>800.000000</td>\n",
       "    </tr>\n",
       "    <tr>\n",
       "      <th>50%</th>\n",
       "      <td>959.000000</td>\n",
       "      <td>1028.000000</td>\n",
       "      <td>160.000000</td>\n",
       "      <td>6.000000</td>\n",
       "      <td>-76.000000</td>\n",
       "      <td>853.000000</td>\n",
       "    </tr>\n",
       "    <tr>\n",
       "      <th>75%</th>\n",
       "      <td>1425.500000</td>\n",
       "      <td>1505.500000</td>\n",
       "      <td>257.500000</td>\n",
       "      <td>9.000000</td>\n",
       "      <td>-72.000000</td>\n",
       "      <td>883.000000</td>\n",
       "    </tr>\n",
       "    <tr>\n",
       "      <th>max</th>\n",
       "      <td>1895.000000</td>\n",
       "      <td>1977.000000</td>\n",
       "      <td>359.000000</td>\n",
       "      <td>12.000000</td>\n",
       "      <td>-62.000000</td>\n",
       "      <td>925.000000</td>\n",
       "    </tr>\n",
       "  </tbody>\n",
       "</table>\n",
       "</div>"
      ],
      "text/plain": [
       "                id          sol           ls        month     min_temp  \\\n",
       "count  1867.000000  1867.000000  1867.000000  1867.000000  1867.000000   \n",
       "mean    955.551152  1015.670059   168.865024     6.141939   -76.121050   \n",
       "std     545.048507   565.342298   105.599153     3.506493     5.504098   \n",
       "min       2.000000    10.000000     0.000000     1.000000   -90.000000   \n",
       "25%     489.500000   546.500000    78.000000     3.000000   -80.000000   \n",
       "50%     959.000000  1028.000000   160.000000     6.000000   -76.000000   \n",
       "75%    1425.500000  1505.500000   257.500000     9.000000   -72.000000   \n",
       "max    1895.000000  1977.000000   359.000000    12.000000   -62.000000   \n",
       "\n",
       "          pressure  \n",
       "count  1867.000000  \n",
       "mean    841.066417  \n",
       "std      54.253226  \n",
       "min     727.000000  \n",
       "25%     800.000000  \n",
       "50%     853.000000  \n",
       "75%     883.000000  \n",
       "max     925.000000  "
      ]
     },
     "execution_count": 12,
     "metadata": {},
     "output_type": "execute_result"
    }
   ],
   "source": [
    "mars_df.describe()"
   ]
  },
  {
   "cell_type": "code",
   "execution_count": null,
   "id": "f16cf386-ebd9-40e4-9313-78f7c0e638e9",
   "metadata": {},
   "outputs": [],
   "source": []
  },
  {
   "cell_type": "code",
   "execution_count": 24,
   "id": "02a46452-e8a7-41f7-9c99-dc24c23f8b69",
   "metadata": {},
   "outputs": [
    {
     "data": {
      "image/png": "[encoded data removed]",
      "text/plain": [
       "<Figure size 432x288 with 1 Axes>"
      ]
     },
     "metadata": {
      "needs_background": "light"
     },
     "output_type": "display_data"
    }
   ],
   "source": [
    "#Plot bar chart\n",
    "plt.bar(temp_months, mean_month[\"min_temp\"])\n",
    "plt.xlabel(\"Months\")\n",
    "plt.ylabel(\"Average Temperature\")\n",
    "plt.title(\"Average Minimum Daily Temperature on Mars\")\n",
    "plt.xticks(temp_months)\n",
    "plt.show()"
   ]
  },
  {
   "cell_type": "markdown",
   "id": "33b01700-3f2b-4aa0-a1f6-8ba26e7cb9bc",
   "metadata": {},
   "source": [
    "**The coldest month seems to be Month 3 and the warmest month seems to be month 8**"
   ]
  },
  {
   "cell_type": "markdown",
   "id": "e6ca9382-52b4-4a6f-a0bf-83af278d80ff",
   "metadata": {},
   "source": [
    "### Which months have the lowest and the highest atmospheric pressure on Mars?"
   ]
  },
  {
   "cell_type": "code",
   "execution_count": 28,
   "id": "e7deb4de-af25-4583-bc4e-27f507dd489a",
   "metadata": {},
   "outputs": [
    {
     "data": {
      "image/png": "[encoded data removed]",
      "text/plain": [
       "<Figure size 432x288 with 1 Axes>"
      ]
     },
     "metadata": {
      "needs_background": "light"
     },
     "output_type": "display_data"
    }
   ],
   "source": [
    "plt.bar(temp_months, mean_month[\"pressure\"])\n",
    "plt.xlabel(\"Months\")\n",
    "plt.ylabel(\"Average Pressure\")\n",
    "plt.title(\"Average Atomspheric Pressure By Month on Mars\")\n",
    "plt.xticks(temp_months)\n",
    "plt.show()"
   ]
  },
  {
   "cell_type": "markdown",
   "id": "c3e30eaf-f433-474e-8650-21cc476a8fca",
   "metadata": {},
   "source": [
    "**Mars experienced its lowest atmospheric pressure during month 6, and its highest during month 9**"
   ]
  },
  {
   "cell_type": "markdown",
   "id": "be8261bc-81d9-4a5c-9aba-1e2c670af891",
   "metadata": {},
   "source": [
    "### About how many terrestrial (Earth) days exist in a Martian year? "
   ]
  },
  {
   "cell_type": "code",
   "execution_count": 37,
   "id": "25b546e7-79b0-472b-8650-43d0996c5670",
   "metadata": {},
   "outputs": [
    {
     "data": {
      "image/png": "[encoded data removed]",
      "text/plain": [
       "<Figure size 1440x144 with 1 Axes>"
      ]
     },
     "metadata": {
      "needs_background": "light"
     },
     "output_type": "display_data"
    }
   ],
   "source": [
    "plt.figure(figsize=(20,2))\n",
    "plt.plot(mars_df[\"terrestrial_date\"], mars_df[\"min_temp\"])\n",
    "plt.xlabel(\"Terrestrial Date\")\n",
    "plt.ylabel(\"Minimum Temperature\")\n",
    "plt.title(\"Minimum Temperature by Earth Day on Mars\")\n",
    "plt.show()"
   ]
  },
  {
   "cell_type": "code",
   "execution_count": 38,
   "id": "2cfaeaa8-e97d-46cc-aae4-353b75cc5da6",
   "metadata": {},
   "outputs": [],
   "source": [
    "mars_df.to_csv(\"Resources/Mars Dataframe.csv\")"
   ]
  },
  {
   "cell_type": "code",
   "execution_count": null,
   "id": "48c65a57-cfe3-42d7-aede-fce1536a22b9",
   "metadata": {},
   "outputs": [],
   "source": []
  }
 ],
 "metadata": {
  "kernelspec": {
   "display_name": "Python 3 (ipykernel)",
   "language": "python",
   "name": "python3"
  },
  "language_info": {
   "codemirror_mode": {
    "name": "ipython",
    "version": 3
   },
   "file_extension": ".py",
   "mimetype": "text/x-python",
   "name": "python",
   "nbconvert_exporter": "python",
   "pygments_lexer": "ipython3",
   "version": "3.9.12"
  }
 },
 "nbformat": 4,
 "nbformat_minor": 5
}
